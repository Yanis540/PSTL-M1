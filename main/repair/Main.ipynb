{
 "cells": [
  {
   "cell_type": "code",
   "execution_count": 43,
   "metadata": {},
   "outputs": [],
   "source": [
    "import os \n",
    "import shutil\n",
    "import platform\n",
    "import subprocess\n",
    "import json\n",
    "import pandas as pd\n",
    "import ast"
   ]
  },
  {
   "cell_type": "code",
   "execution_count": 7,
   "metadata": {},
   "outputs": [],
   "source": [
    "\n",
    "SAMPLES_SCHEMAS = ['o10011','o10013','o10020','o10026','o10069','o10092','o19070']\n"
   ]
  },
  {
   "cell_type": "code",
   "execution_count": 3,
   "metadata": {},
   "outputs": [],
   "source": [
    "df = pd.read_csv(f'../results/ted_type_of_errors.csv')"
   ]
  },
  {
   "cell_type": "code",
   "execution_count": 4,
   "metadata": {},
   "outputs": [
    {
     "data": {
      "text/html": [
       "<div>\n",
       "<style scoped>\n",
       "    .dataframe tbody tr th:only-of-type {\n",
       "        vertical-align: middle;\n",
       "    }\n",
       "\n",
       "    .dataframe tbody tr th {\n",
       "        vertical-align: top;\n",
       "    }\n",
       "\n",
       "    .dataframe thead th {\n",
       "        text-align: right;\n",
       "    }\n",
       "</style>\n",
       "<table border=\"1\" class=\"dataframe\">\n",
       "  <thead>\n",
       "    <tr style=\"text-align: right;\">\n",
       "      <th></th>\n",
       "      <th>schema</th>\n",
       "      <th>DG_type_of_errors</th>\n",
       "      <th>JE_type_of_errors</th>\n",
       "      <th>JSF_type_of_errors</th>\n",
       "    </tr>\n",
       "  </thead>\n",
       "  <tbody>\n",
       "    <tr>\n",
       "      <th>4</th>\n",
       "      <td>o10011</td>\n",
       "      <td>[]</td>\n",
       "      <td>['oneOf', 'required', 'additionalProperties']</td>\n",
       "      <td>[]</td>\n",
       "    </tr>\n",
       "  </tbody>\n",
       "</table>\n",
       "</div>"
      ],
      "text/plain": [
       "   schema DG_type_of_errors                              JE_type_of_errors  \\\n",
       "4  o10011                []  ['oneOf', 'required', 'additionalProperties']   \n",
       "\n",
       "  JSF_type_of_errors  \n",
       "4                 []  "
      ]
     },
     "execution_count": 4,
     "metadata": {},
     "output_type": "execute_result"
    }
   ],
   "source": [
    "df[df['schema']=='o10011']"
   ]
  },
  {
   "cell_type": "code",
   "execution_count": 44,
   "metadata": {},
   "outputs": [
    {
     "name": "stdout",
     "output_type": "stream",
     "text": [
      "[]\n"
     ]
    }
   ],
   "source": [
    "dg=df[df['schema']=='o10011']['DG_type_of_errors']\n",
    "je=df[df['schema']=='o10011']['JE_type_of_errors']\n",
    "jsf=df[df['schema']=='o10011']['JSF_type_of_errors']\n",
    "print(ast.literal_eval(dg.values[0]))"
   ]
  },
  {
   "cell_type": "code",
   "execution_count": null,
   "metadata": {},
   "outputs": [],
   "source": []
  },
  {
   "cell_type": "code",
   "execution_count": 57,
   "metadata": {},
   "outputs": [
    {
     "name": "stdout",
     "output_type": "stream",
     "text": [
      "copy d:\\Yanis\\FAC\\M1\\S2\\PSTL\\main\\repair/../dataset/DG/o10011_witness.json d:\\Yanis\\FAC\\M1\\S2\\PSTL\\main\\repair/Samples/1/DG.json\n",
      "0\n"
     ]
    }
   ],
   "source": [
    "base_path = os.path.abspath('.')\n",
    "source_file = os.path.join(base_path, '..', 'dataset', 'DG', 'o10011_witness.json')\n",
    "destination_file = os.path.join(base_path, 'Samples', '1', 'DG.json')\n",
    "print(f'copy {base_path}/../dataset/DG/o10011_witness.json {base_path}/Samples/1/DG.json')\n",
    "if platform.system() == \"Windows\": \n",
    "    err = subprocess.call(['copy', source_file, destination_file], shell=True)\n",
    "else: \n",
    "    err = subprocess.call(['cp', source_file, destination_file])\n",
    "print(err)"
   ]
  },
  {
   "cell_type": "code",
   "execution_count": 61,
   "metadata": {},
   "outputs": [
    {
     "name": "stdout",
     "output_type": "stream",
     "text": [
      "Schema : o10011\n",
      "\tDG\n",
      "\tJE\n",
      "\tJSF\n",
      "[]\n",
      "Schema : o10013\n",
      "\tDG\n",
      "\tJE\n",
      "\tJSF\n",
      "[]\n",
      "Schema : o10020\n",
      "\tDG\n",
      "\tJE\n",
      "\tJSF\n",
      "['oneOf']\n",
      "Schema : o10026\n",
      "\tDG\n",
      "\tJE\n",
      "\tJSF\n",
      "['oneOf', 'additionalProperties', 'required']\n",
      "Schema : o10069\n",
      "\tDG\n",
      "\tJE\n",
      "\tJSF\n",
      "[]\n",
      "Schema : o10092\n",
      "\tDG\n",
      "\tJE\n",
      "\tJSF\n",
      "['oneOf']\n",
      "Schema : o19070\n",
      "\tDG\n",
      "\tJE\n",
      "\tJSF\n",
      "[]\n"
     ]
    }
   ],
   "source": [
    "for i,schema in enumerate(SAMPLES_SCHEMAS) : \n",
    "    dg=ast.literal_eval(df[df['schema']==schema]['DG_type_of_errors'].values[0])\n",
    "    je=ast.literal_eval(df[df['schema']==schema]['JE_type_of_errors'].values[0])\n",
    "    jsf=ast.literal_eval(df[df['schema']==schema]['JSF_type_of_errors'].values[0])\n",
    "    if not os.path.exists(f'./Samples/{i+1}'): \n",
    "        os.mkdir(f'./Samples/{i+1}')\n",
    "    print(f\"Schema : {schema}\")\n",
    "    \n",
    "    #! copier le schema \n",
    "    source_schema_file = os.path.join(base_path, '..', 'dataset', f'schemas-migrated', f'{schema}.json')\n",
    "    destination_schema_file = os.path.join(base_path, 'Samples', f'{i+1}', f'schema.json')\n",
    "    try : \n",
    "        if platform.system() == \"Windows\": \n",
    "            err = subprocess.call(['copy', source_schema_file, destination_schema_file], shell=True)\n",
    "        else: \n",
    "            err = subprocess.call(['cp', source_schema_file, destination_schema_file],shell=True)\n",
    "    except : \n",
    "        print(err)\n",
    "    #! copier les fichiers dans le bon endroit \n",
    "    for gen in ['DG','JE','JSF']: \n",
    "        print(f'\\t{gen}')\n",
    "        base_path = os.path.abspath('.')\n",
    "        source_file = os.path.join(base_path, '..', 'dataset', f'{gen}', f'{schema}_witness.json')\n",
    "        destination_file = os.path.join(base_path, 'Samples', f'{i+1}', f'{gen}.json')\n",
    "        try : \n",
    "            if platform.system() == \"Windows\": \n",
    "                err = subprocess.call(['copy', source_file, destination_file], shell=True)\n",
    "            else: \n",
    "                err = subprocess.call(['cp', source_file, destination_file],shell=True)\n",
    "        except : \n",
    "            print(err)\n",
    "    # copier dans le fichiers json \n",
    "    errors= {\n",
    "        \"DG\": dg,\n",
    "        \"JE\": je,\n",
    "        \"JSF\": jsf\n",
    "    }\n",
    "    print(errors['DG'])\n",
    "    with open(f'./Samples/{i+1}/all-errors.json','w') as f : \n",
    "        json.dump(errors,f,indent=4)"
   ]
  }
 ],
 "metadata": {
  "kernelspec": {
   "display_name": "Python 3",
   "language": "python",
   "name": "python3"
  },
  "language_info": {
   "codemirror_mode": {
    "name": "ipython",
    "version": 3
   },
   "file_extension": ".py",
   "mimetype": "text/x-python",
   "name": "python",
   "nbconvert_exporter": "python",
   "pygments_lexer": "ipython3",
   "version": "3.10.5"
  }
 },
 "nbformat": 4,
 "nbformat_minor": 2
}
