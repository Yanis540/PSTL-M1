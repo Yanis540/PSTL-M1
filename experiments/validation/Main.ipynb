{
 "cells": [
  {
   "cell_type": "code",
   "execution_count": null,
   "metadata": {},
   "outputs": [],
   "source": [
    "!pip install jschon"
   ]
  },
  {
   "cell_type": "code",
   "execution_count": 2,
   "metadata": {},
   "outputs": [],
   "source": [
    "from jschon import create_catalog,JSON, JSONSchema\n",
    "import json,os\n",
    "import pathlib\n",
    "import inspect\n",
    "\n"
   ]
  },
  {
   "cell_type": "code",
   "execution_count": 3,
   "metadata": {},
   "outputs": [
    {
     "data": {
      "text/plain": [
       "Catalog('catalog')"
      ]
     },
     "execution_count": 3,
     "metadata": {},
     "output_type": "execute_result"
    }
   ],
   "source": [
    "create_catalog('2020-12')\n"
   ]
  },
  {
   "cell_type": "code",
   "execution_count": 130,
   "metadata": {},
   "outputs": [],
   "source": [
    "keywords_to_avoid = ['not','anyOf','oneOf','allOf','patternPropreties']\n",
    "def extract_errors_map(error:dict, error_map:dict):\n",
    "    # print(error)\n",
    "    # if there's errors in subschema treat them since they are the origin of the error  \n",
    "    if 'errors' in error:\n",
    "        for e in error['errors']:\n",
    "            extract_errors_map(e, error_map)\n",
    "    else : \n",
    "        keywordLocation = str(error['keywordLocation'])\n",
    "        key = keywordLocation.split('/')[-1]\n",
    "        \n",
    "        if error[\"valid\"] == True :\n",
    "            if keywordLocation.__contains__(\"not\"):\n",
    "                if error_map.get(key) is None : \n",
    "                    error_map[key]=[error['error'] if 'error' in error else '']\n",
    "                else : \n",
    "                    error_map[key].append(error['error'] if 'error' in error else '') \n",
    "                \n",
    "            pass \n",
    "        else :      \n",
    "            if key and  'error' in error and key not in keywords_to_avoid:\n",
    "                if error_map.get(key) is None : \n",
    "                    error_map[key]=[error['error'] if 'error' in error else '']\n",
    "                else : \n",
    "                    error_map[key].append(error['error'] if 'error' in error else '')\n",
    "    \n",
    "    # print(\"there's still error\")\n",
    "   \n",
    "\n",
    "def extract_errors(errors): \n",
    "    error_map= {}\n",
    "    for error in errors : \n",
    "        extract_errors_map(error,error_map)\n",
    "    return list(error_map.keys())"
   ]
  },
  {
   "cell_type": "code",
   "execution_count": null,
   "metadata": {},
   "outputs": [],
   "source": []
  },
  {
   "cell_type": "code",
   "execution_count": 108,
   "metadata": {},
   "outputs": [],
   "source": [
    "def validate_instance(schema_dir:str,instance_dir): \n",
    "    with open(schema_dir,'r',encoding='utf-8') as f : \n",
    "        schema= json.load(f)\n",
    "    schema['$schema'] =\"https://json-schema.org/draft/2020-12/schema\"\n",
    "    schema['$id'] =\"https://jschon.dev/demo\"\n",
    "    demo_schema = JSONSchema(schema)\n",
    "    # print(demo_schema)\n",
    "    with open (instance_dir,'r',encoding='utf-8') as f : \n",
    "        instance=json.load(f)\n",
    "        \n",
    "    result = demo_schema.evaluate(\n",
    "        JSON(instance)\n",
    "    )\n",
    "    return result \n",
    "def get_errors_validation(schema_dir:str,instance_dir:str): \n",
    "    result = validate_instance(schema_dir,instance_dir)\n",
    "    # print(result.output('detailed'))# if errors in result.output('detailed')\n",
    "    if(result.output(\"verbose\")['valid']==False or \"errors\" in result.output(\"verbose\")): \n",
    "        errors = extract_errors(result.output('verbose')['errors'])\n",
    "    else : \n",
    "        errors=[]\n",
    "    return errors"
   ]
  },
  {
   "cell_type": "code",
   "execution_count": 129,
   "metadata": {},
   "outputs": [],
   "source": [
    "src_file_path = os.path.dirname(os.path.abspath(\"__file__\"))\n",
    "schema_path = src_file_path+'/dataset/7/schema.json'\n",
    "instance_path = src_file_path+'/dataset/7/instance.json'\n",
    "output = validate_instance(schema_path,instance_path).output('verbose')\n",
    "with open(src_file_path+'/dataset/7/errors.json','w') as f: \n",
    "    json.dump(output,f)"
   ]
  },
  {
   "cell_type": "code",
   "execution_count": 131,
   "metadata": {},
   "outputs": [
    {
     "name": "stdout",
     "output_type": "stream",
     "text": [
      "Treating schema : 1.json\n",
      "['required', 'type']\n",
      "Treating schema : 2.json\n",
      "['type', 'minProperties']\n",
      "Treating schema : 3.json\n",
      "['type', 'required']\n",
      "Treating schema : 4.json\n",
      "[]\n",
      "Treating schema : 5.json\n",
      "['required']\n",
      "Treating schema : 6.json\n",
      "['type']\n",
      "Treating schema : 7.json\n",
      "['type']\n"
     ]
    }
   ],
   "source": [
    "src_file_path = os.path.dirname(os.path.abspath(\"__file__\"))\n",
    "\n",
    "# print(src_file_path)\n",
    "dataset_dir =  src_file_path+'/dataset'\n",
    "for dir in os.listdir(dataset_dir) : \n",
    "    if dir=='instances' or dir=='schemas' : \n",
    "        continue \n",
    "    print(f\"Treating schema : {dir}.json\")\n",
    "    schema_dir = f'{dataset_dir}/{dir}/schema.json'\n",
    "    instance_dir=f'{dataset_dir}/{dir}/instance.json'\n",
    "    errors=get_errors_validation(schema_dir,instance_dir)\n",
    "    print(errors)"
   ]
  }
 ],
 "metadata": {
  "kernelspec": {
   "display_name": "Python 3",
   "language": "python",
   "name": "python3"
  },
  "language_info": {
   "codemirror_mode": {
    "name": "ipython",
    "version": 3
   },
   "file_extension": ".py",
   "mimetype": "text/x-python",
   "name": "python",
   "nbconvert_exporter": "python",
   "pygments_lexer": "ipython3",
   "version": "3.10.5"
  }
 },
 "nbformat": 4,
 "nbformat_minor": 2
}
