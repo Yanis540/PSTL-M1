{
 "cells": [
  {
   "cell_type": "code",
   "execution_count": null,
   "metadata": {},
   "outputs": [],
   "source": [
    "!pip install jschon"
   ]
  },
  {
   "cell_type": "code",
   "execution_count": 2,
   "metadata": {},
   "outputs": [],
   "source": [
    "from jschon import create_catalog,JSON, JSONSchema\n",
    "import json,os\n",
    "import pathlib\n",
    "import inspect\n",
    "\n"
   ]
  },
  {
   "cell_type": "code",
   "execution_count": 3,
   "metadata": {},
   "outputs": [
    {
     "data": {
      "text/plain": [
       "Catalog('catalog')"
      ]
     },
     "execution_count": 3,
     "metadata": {},
     "output_type": "execute_result"
    }
   ],
   "source": [
    "create_catalog('2020-12')\n"
   ]
  },
  {
   "cell_type": "code",
   "execution_count": 4,
   "metadata": {},
   "outputs": [
    {
     "data": {
      "text/plain": [
       "'d:\\\\Yanis\\\\FAC\\\\M1\\\\S2\\\\PSTL\\\\experiments\\\\validation'"
      ]
     },
     "execution_count": 4,
     "metadata": {},
     "output_type": "execute_result"
    }
   ],
   "source": [
    "os.path.dirname(os.path.abspath(\"__file__\"))\n"
   ]
  },
  {
   "cell_type": "code",
   "execution_count": 4,
   "metadata": {},
   "outputs": [],
   "source": [
    "src_file_path = os.path.dirname(os.path.abspath(\"__file__\"))\n",
    "\n",
    "# print(src_file_path)\n",
    "dataset_dir =  src_file_path+'/dataset/1'\n",
    "schema_dir = f'{dataset_dir}/schema.json'\n",
    "instance_dir=f'{dataset_dir}/instance.json'"
   ]
  },
  {
   "cell_type": "code",
   "execution_count": 55,
   "metadata": {},
   "outputs": [],
   "source": [
    "keywords_to_avoid = ['','anyOf','oneOf','allOf','patternPropreties']\n",
    "def extract_errors_map(error:dict, error_map:dict):\n",
    "    if 'keywordLocation' in error:\n",
    "        key = error['keywordLocation'].split('/')[-1]\n",
    "        if key and key not in keywords_to_avoid:\n",
    "            if error_map.get(key) is None : \n",
    "                error_map[key]=[error['error']]\n",
    "            else : \n",
    "                error_map[key].append(error['error'])\n",
    "    \n",
    "    # print(\"there's still error\")\n",
    "    if 'errors' in error:\n",
    "        for e in error['errors']:\n",
    "            extract_errors_map(e, error_map)\n",
    "\n",
    "def extract_errors(errors): \n",
    "    error_map= {}\n",
    "    for error in errors : \n",
    "        extract_errors_map(error,error_map)\n",
    "    return list(error_map.keys())"
   ]
  },
  {
   "cell_type": "code",
   "execution_count": 63,
   "metadata": {},
   "outputs": [],
   "source": [
    "def get_errors_validation(schema_dir:str,instance_dir:str): \n",
    "    \n",
    "    with open(schema_dir,'r',encoding='utf-8') as f : \n",
    "        schema= json.load(f)\n",
    "    schema['$schema'] =\"https://json-schema.org/draft/2020-12/schema\"\n",
    "    schema['$id'] =\"https://jschon.dev/demo\"\n",
    "    demo_schema = JSONSchema(schema)\n",
    "    # print(demo_schema)\n",
    "    with open (instance_dir,'r',encoding='utf-8') as f : \n",
    "        instance=json.load(f)\n",
    "        \n",
    "    result = demo_schema.evaluate(\n",
    "        JSON(instance)\n",
    "    )\n",
    "    # print(result.output('detailed'))# if errors in result.output('detailed')\n",
    "    if(result.output(\"detailed\")['valid']==False or \"errors\" in result.output(\"detailed\")): \n",
    "        errors = extract_errors(result.output('detailed')['errors'])\n",
    "    else : \n",
    "        errors=[]\n",
    "    return errors"
   ]
  },
  {
   "cell_type": "code",
   "execution_count": 64,
   "metadata": {},
   "outputs": [
    {
     "data": {
      "text/plain": [
       "['required', 'type']"
      ]
     },
     "execution_count": 64,
     "metadata": {},
     "output_type": "execute_result"
    }
   ],
   "source": [
    "\n",
    "get_errors_validation(schema_dir,instance_dir)"
   ]
  }
 ],
 "metadata": {
  "kernelspec": {
   "display_name": "Python 3",
   "language": "python",
   "name": "python3"
  },
  "language_info": {
   "codemirror_mode": {
    "name": "ipython",
    "version": 3
   },
   "file_extension": ".py",
   "mimetype": "text/x-python",
   "name": "python",
   "nbconvert_exporter": "python",
   "pygments_lexer": "ipython3",
   "version": "3.10.5"
  }
 },
 "nbformat": 4,
 "nbformat_minor": 2
}
