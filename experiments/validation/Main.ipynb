{
 "cells": [
  {
   "cell_type": "code",
   "execution_count": null,
   "metadata": {},
   "outputs": [],
   "source": [
    "!pip install jschon"
   ]
  },
  {
   "cell_type": "code",
   "execution_count": 1,
   "metadata": {},
   "outputs": [],
   "source": [
    "from jschon import create_catalog,JSON, JSONSchema\n",
    "import json,os\n",
    "import pathlib\n",
    "import inspect\n",
    "\n"
   ]
  },
  {
   "cell_type": "code",
   "execution_count": 2,
   "metadata": {},
   "outputs": [
    {
     "data": {
      "text/plain": [
       "Catalog('catalog')"
      ]
     },
     "execution_count": 2,
     "metadata": {},
     "output_type": "execute_result"
    }
   ],
   "source": [
    "create_catalog('2020-12')\n"
   ]
  },
  {
   "cell_type": "code",
   "execution_count": 4,
   "metadata": {},
   "outputs": [
    {
     "data": {
      "text/plain": [
       "'d:\\\\Yanis\\\\FAC\\\\M1\\\\S2\\\\PSTL\\\\experiments\\\\validation'"
      ]
     },
     "execution_count": 4,
     "metadata": {},
     "output_type": "execute_result"
    }
   ],
   "source": [
    "os.path.dirname(os.path.abspath(\"__file__\"))\n"
   ]
  },
  {
   "cell_type": "code",
   "execution_count": 35,
   "metadata": {},
   "outputs": [],
   "source": [
    "src_file_path = os.path.dirname(os.path.abspath(\"__file__\"))\n",
    "\n",
    "# print(src_file_path)\n",
    "dataset_dir =  src_file_path+'/dataset/1'\n",
    "schema_dir = f'{dataset_dir}/schema.json'\n",
    "instance_dir=f'{dataset_dir}/instance.json'"
   ]
  },
  {
   "cell_type": "code",
   "execution_count": 44,
   "metadata": {},
   "outputs": [],
   "source": [
    "def get_errors_validation(schema_dir:str,instance_dir:str): \n",
    "    \n",
    "    with open(schema_dir,'r',encoding='utf-8') as f : \n",
    "        schema= json.load(f)\n",
    "    schema['$schema'] =\"https://json-schema.org/draft/2020-12/schema\"\n",
    "    schema['$id'] =\"https://jschon.dev/demo\"\n",
    "    demo_schema = JSONSchema(schema)\n",
    "    # print(demo_schema)\n",
    "    with open (instance_dir,'r',encoding='utf-8') as f : \n",
    "        instance=json.load(f)\n",
    "        \n",
    "    result = demo_schema.evaluate(\n",
    "        JSON(instance)\n",
    "    )\n",
    "    print(result.output('detailed')['errors'])\n",
    "    return result.output('detailed')"
   ]
  },
  {
   "cell_type": "code",
   "execution_count": 45,
   "metadata": {},
   "outputs": [
    {
     "name": "stdout",
     "output_type": "stream",
     "text": [
      "[{'instanceLocation': '/name', 'keywordLocation': '/properties/name/anyOf', 'absoluteKeywordLocation': 'https://jschon.dev/demo#/properties/name/anyOf', 'errors': [{'instanceLocation': '/name', 'keywordLocation': '/properties/name/anyOf/0/required', 'absoluteKeywordLocation': 'https://jschon.dev/demo#/properties/name/anyOf/0/required', 'error': \"The object is missing required properties ['a']\"}, {'instanceLocation': '/name', 'keywordLocation': '/properties/name/anyOf/1/type', 'absoluteKeywordLocation': 'https://jschon.dev/demo#/properties/name/anyOf/1/type', 'error': 'The instance must be of type \"integer\"'}]}]\n"
     ]
    },
    {
     "data": {
      "text/plain": [
       "{'valid': False,\n",
       " 'instanceLocation': '',\n",
       " 'keywordLocation': '',\n",
       " 'absoluteKeywordLocation': 'https://jschon.dev/demo#',\n",
       " 'errors': [{'instanceLocation': '/name',\n",
       "   'keywordLocation': '/properties/name/anyOf',\n",
       "   'absoluteKeywordLocation': 'https://jschon.dev/demo#/properties/name/anyOf',\n",
       "   'errors': [{'instanceLocation': '/name',\n",
       "     'keywordLocation': '/properties/name/anyOf/0/required',\n",
       "     'absoluteKeywordLocation': 'https://jschon.dev/demo#/properties/name/anyOf/0/required',\n",
       "     'error': \"The object is missing required properties ['a']\"},\n",
       "    {'instanceLocation': '/name',\n",
       "     'keywordLocation': '/properties/name/anyOf/1/type',\n",
       "     'absoluteKeywordLocation': 'https://jschon.dev/demo#/properties/name/anyOf/1/type',\n",
       "     'error': 'The instance must be of type \"integer\"'}]}]}"
      ]
     },
     "execution_count": 45,
     "metadata": {},
     "output_type": "execute_result"
    }
   ],
   "source": [
    "\n",
    "get_errors_validation(schema_dir,instance_dir)"
   ]
  }
 ],
 "metadata": {
  "kernelspec": {
   "display_name": "Python 3",
   "language": "python",
   "name": "python3"
  },
  "language_info": {
   "codemirror_mode": {
    "name": "ipython",
    "version": 3
   },
   "file_extension": ".py",
   "mimetype": "text/x-python",
   "name": "python",
   "nbconvert_exporter": "python",
   "pygments_lexer": "ipython3",
   "version": "3.10.5"
  }
 },
 "nbformat": 4,
 "nbformat_minor": 2
}
