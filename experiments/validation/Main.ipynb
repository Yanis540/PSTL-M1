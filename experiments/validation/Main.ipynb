{
 "cells": [
  {
   "cell_type": "code",
   "execution_count": null,
   "metadata": {},
   "outputs": [],
   "source": [
    "!pip install jschon"
   ]
  },
  {
   "cell_type": "code",
   "execution_count": null,
   "metadata": {},
   "outputs": [],
   "source": [
    "!pip install js2py"
   ]
  },
  {
   "cell_type": "code",
   "execution_count": 10,
   "metadata": {},
   "outputs": [],
   "source": [
    "from jschon import create_catalog,JSON, JSONSchema\n",
    "import json,os\n",
    "import pathlib\n",
    "import inspect\n",
    "import  js2py\n"
   ]
  },
  {
   "cell_type": "code",
   "execution_count": 11,
   "metadata": {},
   "outputs": [
    {
     "data": {
      "text/plain": [
       "Catalog('catalog')"
      ]
     },
     "execution_count": 11,
     "metadata": {},
     "output_type": "execute_result"
    }
   ],
   "source": [
    "create_catalog('2019-09')\n"
   ]
  },
  {
   "cell_type": "code",
   "execution_count": 25,
   "metadata": {},
   "outputs": [],
   "source": [
    "keywords_to_avoid = ['not','anyOf','oneOf','allOf','properties','patternPropreties','items']\n",
    "def extract_errors_map(error:dict, error_map:dict):\n",
    "    # print(error)\n",
    "    # if there's errors in subschema treat them since they are the origin of the error  \n",
    "    keywordLocation = str(error['keywordLocation'])\n",
    "    key = keywordLocation.split('/')[-1]\n",
    "    if 'errors' in error:\n",
    "        if key in  keywords_to_avoid :\n",
    "            if error_map.get(key) is None : \n",
    "                error_map[key]=[error['error'] if 'error' in error else '']\n",
    "            else : \n",
    "                error_map[key].append(error['error'] if 'error' in error else '') \n",
    "        for e in error['errors']:\n",
    "            extract_errors_map(e, error_map)\n",
    "    else : \n",
    "        # if key not in keywords_to_avoid:\n",
    "        if error_map.get(key) is None : \n",
    "            error_map[key]=[error['error'] if 'error' in error else '']\n",
    "        else : \n",
    "            error_map[key].append(error['error'] if 'error' in error else '') \n",
    "   \n",
    "\n",
    "def extract_errors(errors): \n",
    "    error_map= {}\n",
    "    for error in errors : \n",
    "        extract_errors_map(error,error_map)\n",
    "    return list(error_map.keys())"
   ]
  },
  {
   "cell_type": "code",
   "execution_count": 13,
   "metadata": {},
   "outputs": [],
   "source": [
    "import json\n",
    "import subprocess\n",
    "def migrate_schema(schema_migration_path,schema_path):\n",
    "    try:\n",
    "        # Convertir le schéma JSON en chaîne JSON\n",
    "        schema_migration_path_str = json.dumps(schema_migration_path)\n",
    "        schema_path_str = json.dumps(schema_path)\n",
    "        # Appeler le script TypeScript avec le schéma JSON en tant qu'argument\n",
    "        command = ['ts-node', '-e', f'require(\"./scripts/migrate\").migrate({schema_migration_path_str},{schema_path_str})']\n",
    "        process = subprocess.Popen(command, stdout=subprocess.PIPE, stderr=subprocess.PIPE,shell=True, text=True)\n",
    "        stdout, stderr = process.communicate()\n",
    "        # Vérifier si une erreur s'est produite pendant l'exécution du script TypeScript\n",
    "        if stderr:\n",
    "            raise RuntimeError(f\"Erreur lors de l'exécution du script TypeScript : {stderr}\")\n",
    "        return True\n",
    "\n",
    "    except Exception as e:\n",
    "        # print(str(e))\n",
    "        print(f\"Une erreur s'est produite : {e}\")\n",
    "        return None\n",
    "def migrate(schemas_dir:str,schema_name:str): \n",
    "    schema_migration_path = f'{schemas_dir}/{schema_name}-migrated.json'\n",
    "    schema_path = f'{schemas_dir}/{schema_name}.json'\n",
    "    try : \n",
    "        schema_migrated = migrate_schema(schema_migration_path,schema_path)\n",
    "        if schema_migrated is None :\n",
    "            return False \n",
    "        return True\n",
    "    except Exception as e: \n",
    "        print(e)\n",
    "        return False"
   ]
  },
  {
   "cell_type": "code",
   "execution_count": 26,
   "metadata": {},
   "outputs": [],
   "source": [
    "from tqdm import tqdm\n",
    "def process_sub_dir(files_list) : \n",
    "    for subdir in tqdm(files_list) :\n",
    "        schema_name = 'schema'\n",
    "        schema_dir =f'{subdir}'\n",
    "        print(f\"Migrating : {schema_name}\") \n",
    "        res = migrate(schema_dir,schema_name)\n",
    "        if res : \n",
    "            print(\"Migrating correctly\")\n",
    "        else : \n",
    "            print(\"Could not migrate\")\n",
    "\n",
    "def migrate_schemas(): \n",
    "    files = [f'./dataset/{x}' for x in os.listdir(\"./dataset\")[:-2]]\n",
    "    process_sub_dir(files)\n",
    "            "
   ]
  },
  {
   "cell_type": "code",
   "execution_count": 27,
   "metadata": {},
   "outputs": [
    {
     "name": "stderr",
     "output_type": "stream",
     "text": [
      "  0%|          | 0/11 [00:00<?, ?it/s]"
     ]
    },
    {
     "name": "stdout",
     "output_type": "stream",
     "text": [
      "Migrating : schema\n"
     ]
    },
    {
     "name": "stderr",
     "output_type": "stream",
     "text": [
      "  9%|▉         | 1/11 [00:05<00:52,  5.22s/it]"
     ]
    },
    {
     "name": "stdout",
     "output_type": "stream",
     "text": [
      "Migrating correctly\n",
      "Migrating : schema\n"
     ]
    },
    {
     "name": "stderr",
     "output_type": "stream",
     "text": [
      " 18%|█▊        | 2/11 [00:07<00:32,  3.63s/it]"
     ]
    },
    {
     "name": "stdout",
     "output_type": "stream",
     "text": [
      "Migrating correctly\n",
      "Migrating : schema\n"
     ]
    },
    {
     "name": "stderr",
     "output_type": "stream",
     "text": [
      " 27%|██▋       | 3/11 [00:10<00:26,  3.30s/it]"
     ]
    },
    {
     "name": "stdout",
     "output_type": "stream",
     "text": [
      "Migrating correctly\n",
      "Migrating : schema\n"
     ]
    },
    {
     "name": "stderr",
     "output_type": "stream",
     "text": [
      " 36%|███▋      | 4/11 [00:13<00:22,  3.23s/it]"
     ]
    },
    {
     "name": "stdout",
     "output_type": "stream",
     "text": [
      "Migrating correctly\n",
      "Migrating : schema\n"
     ]
    },
    {
     "name": "stderr",
     "output_type": "stream",
     "text": [
      " 45%|████▌     | 5/11 [00:16<00:18,  3.12s/it]"
     ]
    },
    {
     "name": "stdout",
     "output_type": "stream",
     "text": [
      "Migrating correctly\n",
      "Migrating : schema\n"
     ]
    },
    {
     "name": "stderr",
     "output_type": "stream",
     "text": [
      " 55%|█████▍    | 6/11 [00:19<00:14,  2.87s/it]"
     ]
    },
    {
     "name": "stdout",
     "output_type": "stream",
     "text": [
      "Migrating correctly\n",
      "Migrating : schema\n"
     ]
    },
    {
     "name": "stderr",
     "output_type": "stream",
     "text": [
      " 64%|██████▎   | 7/11 [00:22<00:12,  3.07s/it]"
     ]
    },
    {
     "name": "stdout",
     "output_type": "stream",
     "text": [
      "Migrating correctly\n",
      "Migrating : schema\n"
     ]
    },
    {
     "name": "stderr",
     "output_type": "stream",
     "text": [
      " 73%|███████▎  | 8/11 [00:25<00:09,  3.13s/it]"
     ]
    },
    {
     "name": "stdout",
     "output_type": "stream",
     "text": [
      "Migrating correctly\n",
      "Migrating : schema\n"
     ]
    },
    {
     "name": "stderr",
     "output_type": "stream",
     "text": [
      " 82%|████████▏ | 9/11 [00:28<00:06,  3.11s/it]"
     ]
    },
    {
     "name": "stdout",
     "output_type": "stream",
     "text": [
      "Migrating correctly\n",
      "Migrating : schema\n"
     ]
    },
    {
     "name": "stderr",
     "output_type": "stream",
     "text": [
      " 91%|█████████ | 10/11 [00:31<00:02,  2.92s/it]"
     ]
    },
    {
     "name": "stdout",
     "output_type": "stream",
     "text": [
      "Migrating correctly\n",
      "Migrating : schema\n"
     ]
    },
    {
     "name": "stderr",
     "output_type": "stream",
     "text": [
      "100%|██████████| 11/11 [00:33<00:00,  3.06s/it]"
     ]
    },
    {
     "name": "stdout",
     "output_type": "stream",
     "text": [
      "Migrating correctly\n"
     ]
    },
    {
     "name": "stderr",
     "output_type": "stream",
     "text": [
      "\n"
     ]
    }
   ],
   "source": [
    "migrate_schemas()"
   ]
  },
  {
   "cell_type": "code",
   "execution_count": 16,
   "metadata": {},
   "outputs": [],
   "source": [
    "\n",
    "def validate_instance(schema_dir:str,instance_dir): \n",
    "    with open(schema_dir,'r',encoding='utf-8') as f : \n",
    "        schema= json.load(f)\n",
    "    print(schema)\n",
    "    demo_schema = JSONSchema(schema)\n",
    "    # print(demo_schema)\n",
    "    with open (instance_dir,'r',encoding='utf-8') as f : \n",
    "        instance=json.load(f)\n",
    "        \n",
    "    result = demo_schema.evaluate(\n",
    "        JSON(instance)\n",
    "    )\n",
    "    return result \n",
    "def get_errors_validation(schema_dir:str,instance_dir:str): \n",
    "    result = validate_instance(schema_dir,instance_dir)\n",
    "    # print(result.output('detailed'))# if errors in result.output('detailed')\n",
    "    if(result.output(\"detailed\")['valid']==False or \"errors\" in result.output(\"detailed\")): \n",
    "        errors = extract_errors(result.output('detailed')['errors'])\n",
    "    else : \n",
    "        errors=[]\n",
    "    return errors"
   ]
  },
  {
   "cell_type": "code",
   "execution_count": 19,
   "metadata": {},
   "outputs": [
    {
     "name": "stdout",
     "output_type": "stream",
     "text": [
      "{'additionalProperties': False, 'properties': {'createdAt': {'additionalProperties': False, 'properties': {'since': {'format': 'date-time', 'type': 'string'}, 'until': {'format': 'date-time', 'type': 'string'}}, 'type': 'object'}, 'level': {'additionalProperties': False, 'properties': {'comparison': {'default': 'gte', 'enum': ['eq', 'gt', 'lt', 'gte', 'lte'], 'type': 'string'}, 'value': {'default': 'info', 'enum': ['debug', 'info', 'warn', 'error', 'critical'], 'type': 'string'}}, 'type': 'object'}, 'source': {'additionalProperties': False, 'properties': {'options': {'type': 'string'}, 'pattern': {'type': 'string'}}, 'required': ['pattern'], 'type': 'object'}, 'tags': {'properties': {'match': {'enum': ['all', 'exact', 'any'], 'type': 'string'}, 'value': {'items': {'not': {'const': 'logs'}, 'type': 'string'}, 'type': 'array'}}, 'type': 'object'}, 'time': {'additionalProperties': False, 'properties': {'since': {'format': 'date-time', 'type': 'string'}, 'until': {'format': 'date-time', 'type': 'string'}}, 'type': 'object'}}, 'title': 'EventRequest', 'type': 'object', '$schema': 'https://json-schema.org/draft/2019-09/schema'}\n"
     ]
    },
    {
     "data": {
      "text/plain": [
       "{'valid': False,\n",
       " 'instanceLocation': '',\n",
       " 'keywordLocation': '',\n",
       " 'absoluteKeywordLocation': 'urn:uuid:9c74c262-a066-4d56-82e1-d161393cf6a9#',\n",
       " 'errors': [{'instanceLocation': '/tags/value',\n",
       "   'keywordLocation': '/properties/tags/properties/value/items',\n",
       "   'absoluteKeywordLocation': 'urn:uuid:9c74c262-a066-4d56-82e1-d161393cf6a9#/properties/tags/properties/value/items',\n",
       "   'errors': [{'instanceLocation': '/tags/value/0',\n",
       "     'keywordLocation': '/properties/tags/properties/value/items/type',\n",
       "     'absoluteKeywordLocation': 'urn:uuid:9c74c262-a066-4d56-82e1-d161393cf6a9#/properties/tags/properties/value/items/type',\n",
       "     'error': 'The instance must be of type \"string\"'},\n",
       "    {'instanceLocation': '/tags/value/1',\n",
       "     'keywordLocation': '/properties/tags/properties/value/items/type',\n",
       "     'absoluteKeywordLocation': 'urn:uuid:9c74c262-a066-4d56-82e1-d161393cf6a9#/properties/tags/properties/value/items/type',\n",
       "     'error': 'The instance must be of type \"string\"'},\n",
       "    {'instanceLocation': '/tags/value/2',\n",
       "     'keywordLocation': '/properties/tags/properties/value/items/type',\n",
       "     'absoluteKeywordLocation': 'urn:uuid:9c74c262-a066-4d56-82e1-d161393cf6a9#/properties/tags/properties/value/items/type',\n",
       "     'error': 'The instance must be of type \"string\"'}]}]}"
      ]
     },
     "execution_count": 19,
     "metadata": {},
     "output_type": "execute_result"
    }
   ],
   "source": [
    "src_file_path = os.path.dirname(os.path.abspath(\"__file__\"))\n",
    "schema_path = src_file_path+'/dataset/10/schema-migrated.json'\n",
    "instance_path = src_file_path+'/dataset/10/instance.json'\n",
    "# output = validate_instance(schema_path,instance_path).output('verbose')\n",
    "# with open(src_file_path+'/dataset/8/errors.json','w') as f: \n",
    "#     json.dump(output,f)\n",
    "result = validate_instance(schema_path,instance_path)\n",
    "result.output(\"detailed\")\n",
    "# errors = get_errors_validation(schema_path,instance_path)\n",
    "# print(errors)"
   ]
  },
  {
   "cell_type": "markdown",
   "metadata": {},
   "source": []
  },
  {
   "cell_type": "code",
   "execution_count": 28,
   "metadata": {},
   "outputs": [
    {
     "name": "stdout",
     "output_type": "stream",
     "text": [
      "Treating schema : 1\n",
      "{'required': ['name'], 'properties': {'name': {'anyOf': [{'type': 'object', 'description': 'Cool! We got a string here!', 'required': ['a'], 'properties': {'a': {'type': 'object', 'properties': {'b': {'type': 'string'}}, 'required': ['b']}}}, {'type': 'integer'}]}}, '$schema': 'https://json-schema.org/draft/2019-09/schema'}\n",
      "{'required': ['name'], 'properties': {'name': {'anyOf': [{'type': 'object', 'description': 'Cool! We got a string here!', 'required': ['a'], 'properties': {'a': {'type': 'object', 'properties': {'b': {'type': 'string'}}, 'required': ['b']}}}, {'type': 'integer'}]}}, '$schema': 'https://json-schema.org/draft/2019-09/schema'}\n",
      "Treating schema : 10\n",
      "{'additionalProperties': False, 'properties': {'createdAt': {'additionalProperties': False, 'properties': {'since': {'format': 'date-time', 'type': 'string'}, 'until': {'format': 'date-time', 'type': 'string'}}, 'type': 'object'}, 'level': {'additionalProperties': False, 'properties': {'comparison': {'default': 'gte', 'enum': ['eq', 'gt', 'lt', 'gte', 'lte'], 'type': 'string'}, 'value': {'default': 'info', 'enum': ['debug', 'info', 'warn', 'error', 'critical'], 'type': 'string'}}, 'type': 'object'}, 'source': {'additionalProperties': False, 'properties': {'options': {'type': 'string'}, 'pattern': {'type': 'string'}}, 'required': ['pattern'], 'type': 'object'}, 'tags': {'properties': {'match': {'enum': ['all', 'exact', 'any'], 'type': 'string'}, 'value': {'items': {'not': {'const': 'logs'}, 'type': 'string'}, 'type': 'array'}}, 'type': 'object'}, 'time': {'additionalProperties': False, 'properties': {'since': {'format': 'date-time', 'type': 'string'}, 'until': {'format': 'date-time', 'type': 'string'}}, 'type': 'object'}}, 'title': 'EventRequest', 'type': 'object', '$schema': 'https://json-schema.org/draft/2019-09/schema'}\n",
      "{'additionalProperties': False, 'properties': {'createdAt': {'additionalProperties': False, 'properties': {'since': {'format': 'date-time', 'type': 'string'}, 'until': {'format': 'date-time', 'type': 'string'}}, 'type': 'object'}, 'level': {'additionalProperties': False, 'properties': {'comparison': {'default': 'gte', 'enum': ['eq', 'gt', 'lt', 'gte', 'lte'], 'type': 'string'}, 'value': {'default': 'info', 'enum': ['debug', 'info', 'warn', 'error', 'critical'], 'type': 'string'}}, 'type': 'object'}, 'source': {'additionalProperties': False, 'properties': {'options': {'type': 'string'}, 'pattern': {'type': 'string'}}, 'required': ['pattern'], 'type': 'object'}, 'tags': {'properties': {'match': {'enum': ['all', 'exact', 'any'], 'type': 'string'}, 'value': {'items': {'not': {'const': 'logs'}, 'type': 'string'}, 'type': 'array'}}, 'type': 'object'}, 'time': {'additionalProperties': False, 'properties': {'since': {'format': 'date-time', 'type': 'string'}, 'until': {'format': 'date-time', 'type': 'string'}}, 'type': 'object'}}, 'title': 'EventRequest', 'type': 'object', '$schema': 'https://json-schema.org/draft/2019-09/schema'}\n",
      "Treating schema : 11\n",
      "{'description': 'A valid MongoDB sort: https://docs.mongodb.com/manual/reference/method/cursor.sort/', 'items': {'description': 'A tuple defining the property to sort on and the direction', 'prefixItems': [{'type': 'string'}, {'enum': ['asc', 'desc'], 'type': 'string'}], 'items': False, 'minItems': 2, 'type': 'array'}, 'title': 'DatabaseSort', 'type': 'array', '$schema': 'https://json-schema.org/draft/2019-09/schema'}\n",
      "{'description': 'A valid MongoDB sort: https://docs.mongodb.com/manual/reference/method/cursor.sort/', 'items': {'description': 'A tuple defining the property to sort on and the direction', 'prefixItems': [{'type': 'string'}, {'enum': ['asc', 'desc'], 'type': 'string'}], 'items': False, 'minItems': 2, 'type': 'array'}, 'title': 'DatabaseSort', 'type': 'array', '$schema': 'https://json-schema.org/draft/2019-09/schema'}\n",
      "Treating schema : 2\n",
      "{'required': ['something'], 'properties': {'something': {'required': ['name'], 'properties': {'name': {'anyOf': [{'type': 'object', 'description': 'Cool! We got a string here!', 'required': ['a'], 'properties': {'a': {'type': 'object', 'properties': {'b': {'type': 'string'}}, 'required': ['b'], 'minProperties': 2}}}, {'type': 'integer'}]}}}}, '$schema': 'https://json-schema.org/draft/2019-09/schema'}\n",
      "{'required': ['something'], 'properties': {'something': {'required': ['name'], 'properties': {'name': {'anyOf': [{'type': 'object', 'description': 'Cool! We got a string here!', 'required': ['a'], 'properties': {'a': {'type': 'object', 'properties': {'b': {'type': 'string'}}, 'required': ['b'], 'minProperties': 2}}}, {'type': 'integer'}]}}}}, '$schema': 'https://json-schema.org/draft/2019-09/schema'}\n",
      "Treating schema : 3\n",
      "{'type': 'object', 'properties': {'name': {'type': 'string'}}, 'not': {'required': ['name']}, '$schema': 'https://json-schema.org/draft/2019-09/schema'}\n",
      "{'type': 'object', 'properties': {'name': {'type': 'string'}}, 'not': {'required': ['name']}, '$schema': 'https://json-schema.org/draft/2019-09/schema'}\n",
      "Treating schema : 4\n",
      "{'type': 'object', 'properties': {'email': {'type': 'string', 'format': 'email'}, 'phone': {'type': 'string', 'pattern': '^\\\\d{10}$'}}, 'allOf': [{'not': {'required': ['email', 'phone']}}, {'anyOf': [{'required': ['email']}, {'required': ['phone']}]}], '$schema': 'https://json-schema.org/draft/2019-09/schema'}\n",
      "{'type': 'object', 'properties': {'email': {'type': 'string', 'format': 'email'}, 'phone': {'type': 'string', 'pattern': '^\\\\d{10}$'}}, 'allOf': [{'not': {'required': ['email', 'phone']}}, {'anyOf': [{'required': ['email']}, {'required': ['phone']}]}], '$schema': 'https://json-schema.org/draft/2019-09/schema'}\n",
      "Treating schema : 5\n",
      "{'type': 'object', 'properties': {'email': {'type': 'string', 'format': 'email'}, 'phone': {'type': 'string', 'pattern': '^\\\\d{10}$'}}, 'allOf': [{'not': {'required': ['email', 'phone']}}, {'anyOf': [{'required': ['email']}, {'required': ['phone']}]}], '$schema': 'https://json-schema.org/draft/2019-09/schema'}\n",
      "{'type': 'object', 'properties': {'email': {'type': 'string', 'format': 'email'}, 'phone': {'type': 'string', 'pattern': '^\\\\d{10}$'}}, 'allOf': [{'not': {'required': ['email', 'phone']}}, {'anyOf': [{'required': ['email']}, {'required': ['phone']}]}], '$schema': 'https://json-schema.org/draft/2019-09/schema'}\n",
      "Treating schema : 6\n",
      "{'type': 'object', 'patternProperties': {'^property[0-9]+$': {'type': 'string'}}, '$schema': 'https://json-schema.org/draft/2019-09/schema'}\n",
      "{'type': 'object', 'patternProperties': {'^property[0-9]+$': {'type': 'string'}}, '$schema': 'https://json-schema.org/draft/2019-09/schema'}\n",
      "Treating schema : 7\n",
      "{'not': {'type': 'string'}, '$schema': 'https://json-schema.org/draft/2019-09/schema'}\n",
      "{'not': {'type': 'string'}, '$schema': 'https://json-schema.org/draft/2019-09/schema'}\n",
      "Treating schema : 8\n",
      "{'$schema': 'https://json-schema.org/draft/2019-09/schema', '$id': 'https://raw.githubusercontent.com/AlekseyBuzmakov/FCAPS/master/FCAPS/schemas/graph.json', 'title': 'Directed Graph JSON', 'description': 'Json file gives a description of a directed graph', 'type': 'array', 'prefixItems': [{'type': 'object', 'title': 'General Grap Info', 'description': 'An object contains general info about the graph', 'properties': {'NodesCount': {'title': 'Number of Nodes', 'description': 'The total number of nodes in the graph', 'type': 'integer', 'minimum': 0}, 'ArcsCount': {'title': 'Number of Arcs', 'description': 'The total number of arcs in the graph', 'type': 'integer', 'minimum': 0}}}, {'title': 'Nodes Info', 'description': 'All nodes are enumerated in this object', 'type': 'object', 'properties': {'Nodes': {'title': 'List of Nodes', 'description': 'The nodes of the graph are given within this array', 'type': 'array', 'items': {}}}, 'required': ['Nodes']}, {'title': 'Arcs Info', 'description': 'All arcs are enumerated in this object', 'type': 'object', 'properties': {'Arcs': {'title': 'List of Arcs', 'description': 'The arcs of the graph are given within this array', 'type': 'array', 'items': {'title': 'Graph Arc', 'description': 'A description of an arc of this graph', 'type': 'object', 'properties': {'S': {'title': 'Source Node', 'description': \"The source node of this arc given as an index in 'Nodes' array\", 'type': 'integer', 'minimum': 0}, 'D': {'title': 'Destination Node', 'description': \"The destination node of this arc given as an index in 'Nodes' array\", 'type': 'integer', 'minimum': 0}}, 'required': ['S', 'D']}}}, 'required': ['Arcs']}, {'title': 'Visualisation Info', 'description': 'All info that is related to graph visualisation is given here, such as vertices positions or level in concept lattices'}], 'minItems': 3}\n",
      "{'$schema': 'https://json-schema.org/draft/2019-09/schema', '$id': 'https://raw.githubusercontent.com/AlekseyBuzmakov/FCAPS/master/FCAPS/schemas/graph.json', 'title': 'Directed Graph JSON', 'description': 'Json file gives a description of a directed graph', 'type': 'array', 'prefixItems': [{'type': 'object', 'title': 'General Grap Info', 'description': 'An object contains general info about the graph', 'properties': {'NodesCount': {'title': 'Number of Nodes', 'description': 'The total number of nodes in the graph', 'type': 'integer', 'minimum': 0}, 'ArcsCount': {'title': 'Number of Arcs', 'description': 'The total number of arcs in the graph', 'type': 'integer', 'minimum': 0}}}, {'title': 'Nodes Info', 'description': 'All nodes are enumerated in this object', 'type': 'object', 'properties': {'Nodes': {'title': 'List of Nodes', 'description': 'The nodes of the graph are given within this array', 'type': 'array', 'items': {}}}, 'required': ['Nodes']}, {'title': 'Arcs Info', 'description': 'All arcs are enumerated in this object', 'type': 'object', 'properties': {'Arcs': {'title': 'List of Arcs', 'description': 'The arcs of the graph are given within this array', 'type': 'array', 'items': {'title': 'Graph Arc', 'description': 'A description of an arc of this graph', 'type': 'object', 'properties': {'S': {'title': 'Source Node', 'description': \"The source node of this arc given as an index in 'Nodes' array\", 'type': 'integer', 'minimum': 0}, 'D': {'title': 'Destination Node', 'description': \"The destination node of this arc given as an index in 'Nodes' array\", 'type': 'integer', 'minimum': 0}}, 'required': ['S', 'D']}}}, 'required': ['Arcs']}, {'title': 'Visualisation Info', 'description': 'All info that is related to graph visualisation is given here, such as vertices positions or level in concept lattices'}], 'minItems': 3}\n",
      "Treating schema : 9\n",
      "{'$schema': 'https://json-schema.org/draft/2019-09/schema', 'title': 'COBRA', 'description': 'JSON representation of COBRA model', 'type': 'object', 'properties': {'id': {'type': 'string'}, 'name': {'type': 'string'}, 'description': {'type': 'string'}, 'version': {'type': 'integer', 'default': 1}, 'reactions': {'type': 'array', 'items': {'type': 'object', 'properties': {'id': {'type': 'string'}, 'name': {'type': 'string'}, 'metabolites': {'type': 'object', 'patternProperties': {'.*': {'type': 'number'}}}, 'gene_reaction_rule': {'type': 'string'}, 'lower_bound': {'type': 'number'}, 'upper_bound': {'type': 'number'}, 'objective_coefficient': {'type': 'number', 'default': 0}, 'variable_kind': {'type': 'string', 'pattern': 'integer|continuous', 'default': 'continuous'}, 'subsystem': {'type': 'string'}, 'notes': {'type': 'object'}, 'annotation': {'type': 'object'}}, 'required': ['id', 'name', 'metabolites', 'lower_bound', 'upper_bound', 'gene_reaction_rule'], 'additionalProperties': False}}, 'metabolites': {'type': 'array', 'items': {'type': 'object', 'properties': {'id': {'type': 'string'}, 'name': {'type': 'string'}, 'compartment': {'type': 'string', 'pattern': '[a-z]{1,2}'}, 'charge': {'type': 'integer'}, 'formula': {'type': 'string'}, '_bound': {'type': 'number', 'default': 0}, '_constraint_sense': {'type': 'string', 'default': 'E', 'pattern': 'E|L|G'}, 'notes': {'type': 'object'}, 'annotation': {'type': 'object'}}, 'required': ['id', 'name', 'compartment'], 'additionalProperties': False}}, 'genes': {'type': 'array', 'items': {'type': 'object', 'properties': {'id': {'type': 'string'}, 'name': {'type': 'string'}, 'notes': {'type': 'object'}, 'annotation': {'type': 'object'}}, 'required': ['id', 'name'], 'additionalProperties': False}}, 'compartments': {'type': 'object', 'patternProperties': {'[a-z]{1,2}': {'type': 'string'}}}, 'notes': {'type': 'object'}, 'annotation': {'type': 'object'}}, 'required': ['id', 'reactions', 'metabolites', 'genes'], 'additionalProperties': False}\n",
      "{'$schema': 'https://json-schema.org/draft/2019-09/schema', 'title': 'COBRA', 'description': 'JSON representation of COBRA model', 'type': 'object', 'properties': {'id': {'type': 'string'}, 'name': {'type': 'string'}, 'description': {'type': 'string'}, 'version': {'type': 'integer', 'default': 1}, 'reactions': {'type': 'array', 'items': {'type': 'object', 'properties': {'id': {'type': 'string'}, 'name': {'type': 'string'}, 'metabolites': {'type': 'object', 'patternProperties': {'.*': {'type': 'number'}}}, 'gene_reaction_rule': {'type': 'string'}, 'lower_bound': {'type': 'number'}, 'upper_bound': {'type': 'number'}, 'objective_coefficient': {'type': 'number', 'default': 0}, 'variable_kind': {'type': 'string', 'pattern': 'integer|continuous', 'default': 'continuous'}, 'subsystem': {'type': 'string'}, 'notes': {'type': 'object'}, 'annotation': {'type': 'object'}}, 'required': ['id', 'name', 'metabolites', 'lower_bound', 'upper_bound', 'gene_reaction_rule'], 'additionalProperties': False}}, 'metabolites': {'type': 'array', 'items': {'type': 'object', 'properties': {'id': {'type': 'string'}, 'name': {'type': 'string'}, 'compartment': {'type': 'string', 'pattern': '[a-z]{1,2}'}, 'charge': {'type': 'integer'}, 'formula': {'type': 'string'}, '_bound': {'type': 'number', 'default': 0}, '_constraint_sense': {'type': 'string', 'default': 'E', 'pattern': 'E|L|G'}, 'notes': {'type': 'object'}, 'annotation': {'type': 'object'}}, 'required': ['id', 'name', 'compartment'], 'additionalProperties': False}}, 'genes': {'type': 'array', 'items': {'type': 'object', 'properties': {'id': {'type': 'string'}, 'name': {'type': 'string'}, 'notes': {'type': 'object'}, 'annotation': {'type': 'object'}}, 'required': ['id', 'name'], 'additionalProperties': False}}, 'compartments': {'type': 'object', 'patternProperties': {'[a-z]{1,2}': {'type': 'string'}}}, 'notes': {'type': 'object'}, 'annotation': {'type': 'object'}}, 'required': ['id', 'reactions', 'metabolites', 'genes'], 'additionalProperties': False}\n"
     ]
    }
   ],
   "source": [
    "src_file_path = os.path.dirname(os.path.abspath(\"__file__\"))\n",
    "\n",
    "# print(src_file_path)\n",
    "dataset_dir =  src_file_path+'/dataset'\n",
    "for dir in os.listdir(dataset_dir) : \n",
    "    if dir=='instances' or dir=='schemas' : \n",
    "        continue \n",
    "    print(f\"Treating schema : {dir}\")\n",
    "    schema_dir = f'{dataset_dir}/{dir}/schema-migrated.json'\n",
    "    instance_dir=f'{dataset_dir}/{dir}/instance.json'\n",
    "    result=validate_instance(schema_dir,instance_dir)\n",
    "    errors=get_errors_validation(schema_dir,instance_dir)\n",
    "    \n",
    "    # print(errors)\n",
    "    with open(f'{dataset_dir}/{dir}/errors.json','w') as f :\n",
    "        res = result.output(\"detailed\")\n",
    "        res['total_errors'] = errors\n",
    "        json.dump(res,f,indent=2) "
   ]
  }
 ],
 "metadata": {
  "kernelspec": {
   "display_name": "Python 3",
   "language": "python",
   "name": "python3"
  },
  "language_info": {
   "codemirror_mode": {
    "name": "ipython",
    "version": 3
   },
   "file_extension": ".py",
   "mimetype": "text/x-python",
   "name": "python",
   "nbconvert_exporter": "python",
   "pygments_lexer": "ipython3",
   "version": "3.10.5"
  }
 },
 "nbformat": 4,
 "nbformat_minor": 2
}
