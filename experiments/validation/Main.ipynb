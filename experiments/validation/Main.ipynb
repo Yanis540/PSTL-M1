{
 "cells": [
  {
   "cell_type": "code",
   "execution_count": null,
   "metadata": {},
   "outputs": [],
   "source": [
    "!pip install jschon"
   ]
  },
  {
   "cell_type": "code",
   "execution_count": null,
   "metadata": {},
   "outputs": [],
   "source": [
    "!pip install js2py"
   ]
  },
  {
   "cell_type": "code",
   "execution_count": null,
   "metadata": {},
   "outputs": [],
   "source": [
    "from jschon import create_catalog,JSON, JSONSchema\n",
    "import json,os\n",
    "import pathlib\n",
    "import inspect\n",
    "import  js2py\n"
   ]
  },
  {
   "cell_type": "code",
   "execution_count": null,
   "metadata": {},
   "outputs": [],
   "source": [
    "create_catalog('2019-09')\n"
   ]
  },
  {
   "cell_type": "code",
   "execution_count": null,
   "metadata": {},
   "outputs": [],
   "source": [
    "keywords_to_avoid = ['not','anyOf','oneOf','allOf','patternPropreties']\n",
    "def extract_errors_map(error:dict, error_map:dict):\n",
    "    # print(error)\n",
    "    # if there's errors in subschema treat them since they are the origin of the error  \n",
    "    if 'errors' in error:\n",
    "        for e in error['errors']:\n",
    "            extract_errors_map(e, error_map)\n",
    "    else : \n",
    "        keywordLocation = str(error['keywordLocation'])\n",
    "        key = keywordLocation.split('/')[-1]\n",
    "        \n",
    "        if error[\"valid\"] == True :\n",
    "            if keywordLocation.__contains__(\"not\"):\n",
    "                if error_map.get(key) is None : \n",
    "                    error_map[key]=[error['error'] if 'error' in error else '']\n",
    "                else : \n",
    "                    error_map[key].append(error['error'] if 'error' in error else '') \n",
    "                \n",
    "            pass \n",
    "        else :      \n",
    "            if key and  'error' in error and key not in keywords_to_avoid:\n",
    "                if error_map.get(key) is None : \n",
    "                    error_map[key]=[error['error'] if 'error' in error else '']\n",
    "                else : \n",
    "                    error_map[key].append(error['error'] if 'error' in error else '')\n",
    "    \n",
    "    # print(\"there's still error\")\n",
    "   \n",
    "\n",
    "def extract_errors(errors): \n",
    "    error_map= {}\n",
    "    for error in errors : \n",
    "        extract_errors_map(error,error_map)\n",
    "    return list(error_map.keys())"
   ]
  },
  {
   "cell_type": "code",
   "execution_count": 268,
   "metadata": {},
   "outputs": [],
   "source": [
    "import json\n",
    "import subprocess\n",
    "def migrate(schema):\n",
    "    try:\n",
    "        # Convertir le schéma JSON en chaîne JSON\n",
    "        schema_json_str = json.dumps(schema)\n",
    "        # Appeler le script TypeScript avec le schéma JSON en tant qu'argument\n",
    "        command = ['ts-node', '-e', f'require(\"./migrate\").migrate({schema_json_str})']\n",
    "        process = subprocess.Popen(command, stdout=subprocess.PIPE, stderr=subprocess.PIPE,shell=True, text=True)\n",
    "        stdout, stderr = process.communicate()\n",
    "        # Vérifier si une erreur s'est produite pendant l'exécution du script TypeScript\n",
    "        if stderr:\n",
    "            raise RuntimeError(f\"Erreur lors de l'exécution du script TypeScript : {stderr}\")\n",
    "\n",
    "        # Analyser la sortie JSON du résultat\n",
    "        result = json.loads(stdout)\n",
    "        return result\n",
    "\n",
    "    except Exception as e:\n",
    "        # print(str(e))\n",
    "        print(f\"Une erreur s'est produite : {e}\")\n",
    "        return None"
   ]
  },
  {
   "cell_type": "code",
   "execution_count": 269,
   "metadata": {},
   "outputs": [],
   "source": [
    "\n",
    "def validate_instance(schema_dir:str,instance_dir): \n",
    "    with open(schema_dir,'r',encoding='utf-8') as f : \n",
    "        schema= json.load(f)\n",
    "    print(schema)\n",
    "    translated_schema=migrate(schema)\n",
    "    print(translated_schema)\n",
    "    # demo_schema = JSONSchema(translated_schema)\n",
    "    # # print(demo_schema)\n",
    "    # with open (instance_dir,'r',encoding='utf-8') as f : \n",
    "    #     instance=json.load(f)\n",
    "        \n",
    "    # result = demo_schema.evaluate(\n",
    "    #     JSON(instance)\n",
    "    # )\n",
    "    # return result \n",
    "def get_errors_validation(schema_dir:str,instance_dir:str): \n",
    "    result = validate_instance(schema_dir,instance_dir)\n",
    "    # print(result.output('detailed'))# if errors in result.output('detailed')\n",
    "    if(result.output(\"verbose\")['valid']==False or \"errors\" in result.output(\"verbose\")): \n",
    "        errors = extract_errors(result.output('verbose')['errors'])\n",
    "    else : \n",
    "        errors=[]\n",
    "    return errors"
   ]
  },
  {
   "cell_type": "code",
   "execution_count": 270,
   "metadata": {},
   "outputs": [
    {
     "name": "stdout",
     "output_type": "stream",
     "text": [
      "{'$schema': 'http://json-schema.org/draft-04/schema#', 'id': 'https://raw.githubusercontent.com/AlekseyBuzmakov/FCAPS/master/FCAPS/schemas/graph.json', 'title': 'Directed Graph JSON', 'description': 'Json file gives a description of a directed graph', 'type': 'array', 'items': [{'type': 'object', 'title': 'General Grap Info', 'description': 'An object contains general info about the graph', 'properties': {'NodesCount': {'title': 'Number of Nodes', 'description': 'The total number of nodes in the graph', 'type': 'integer', 'minimum': 0}, 'ArcsCount': {'title': 'Number of Arcs', 'description': 'The total number of arcs in the graph', 'type': 'integer', 'minimum': 0}}}, {'title': 'Nodes Info', 'description': 'All nodes are enumerated in this object', 'type': 'object', 'properties': {'Nodes': {'title': 'List of Nodes', 'description': 'The nodes of the graph are given within this array', 'type': 'array', 'items': {}}}, 'required': ['Nodes']}, {'title': 'Arcs Info', 'description': 'All arcs are enumerated in this object', 'type': 'object', 'properties': {'Arcs': {'title': 'List of Arcs', 'description': 'The arcs of the graph are given within this array', 'type': 'array', 'items': {'title': 'Graph Arc', 'description': 'A description of an arc of this graph', 'type': 'object', 'properties': {'S': {'title': 'Source Node', 'description': \"The source node of this arc given as an index in 'Nodes' array\", 'type': 'integer', 'minimum': 0}, 'D': {'title': 'Destination Node', 'description': \"The destination node of this arc given as an index in 'Nodes' array\", 'type': 'integer', 'minimum': 0}}, 'required': ['S', 'D']}}}, 'required': ['Arcs']}, {'title': 'Visualisation Info', 'description': 'All info that is related to graph visualisation is given here, such as vertices positions or level in concept lattices'}], 'minItems': 3}\n",
      "{'$schema': 'https://json-schema.org/draft/2019-09/schema', '$id': 'https://raw.githubusercontent.com/AlekseyBuzmakov/FCAPS/master/FCAPS/schemas/graph.json', 'title': 'Directed Graph JSON', 'description': 'Json file gives a description of a directed graph', 'type': 'array', 'prefixItems': [{'type': 'object', 'title': 'General Grap Info', 'description': 'An object contains general info about the graph', 'properties': {'NodesCount': {'title': 'Number of Nodes', 'description': 'The total number of nodes in the graph', 'type': 'integer', 'minimum': 0}, 'ArcsCount': {'title': 'Number of Arcs', 'description': 'The total number of arcs in the graph', 'type': 'integer', 'minimum': 0}}}, {'title': 'Nodes Info', 'description': 'All nodes are enumerated in this object', 'type': 'object', 'properties': {'Nodes': {'title': 'List of Nodes', 'description': 'The nodes of the graph are given within this array', 'type': 'array', 'items': {}}}, 'required': ['Nodes']}, {'title': 'Arcs Info', 'description': 'All arcs are enumerated in this object', 'type': 'object', 'properties': {'Arcs': {'title': 'List of Arcs', 'description': 'The arcs of the graph are given within this array', 'type': 'array', 'items': {'title': 'Graph Arc', 'description': 'A description of an arc of this graph', 'type': 'object', 'properties': {'S': {'title': 'Source Node', 'description': \"The source node of this arc given as an index in 'Nodes' array\", 'type': 'integer', 'minimum': 0}, 'D': {'title': 'Destination Node', 'description': \"The destination node of this arc given as an index in 'Nodes' array\", 'type': 'integer', 'minimum': 0}}, 'required': ['S', 'D']}}}, 'required': ['Arcs']}, {'title': 'Visualisation Info', 'description': 'All info that is related to graph visualisation is given here, such as vertices positions or level in concept lattices'}], 'minItems': 3}\n"
     ]
    }
   ],
   "source": [
    "src_file_path = os.path.dirname(os.path.abspath(\"__file__\"))\n",
    "schema_path = src_file_path+'/dataset/8/schema.json'\n",
    "instance_path = src_file_path+'/dataset/8/instance.json'\n",
    "# output = validate_instance(schema_path,instance_path).output('verbose')\n",
    "# with open(src_file_path+'/dataset/8/errors.json','w') as f: \n",
    "#     json.dump(output,f)\n",
    "validate_instance(schema_path,instance_path)"
   ]
  },
  {
   "cell_type": "code",
   "execution_count": null,
   "metadata": {},
   "outputs": [],
   "source": [
    "src_file_path = os.path.dirname(os.path.abspath(\"__file__\"))\n",
    "\n",
    "# print(src_file_path)\n",
    "dataset_dir =  src_file_path+'/dataset'\n",
    "for dir in os.listdir(dataset_dir) : \n",
    "    if dir=='instances' or dir=='schemas' : \n",
    "        continue \n",
    "    print(f\"Treating schema : {dir}.json\")\n",
    "    schema_dir = f'{dataset_dir}/{dir}/schema.json'\n",
    "    instance_dir=f'{dataset_dir}/{dir}/instance.json'\n",
    "    errors=get_errors_validation(schema_dir,instance_dir)\n",
    "    print(errors)"
   ]
  }
 ],
 "metadata": {
  "kernelspec": {
   "display_name": "Python 3",
   "language": "python",
   "name": "python3"
  },
  "language_info": {
   "codemirror_mode": {
    "name": "ipython",
    "version": 3
   },
   "file_extension": ".py",
   "mimetype": "text/x-python",
   "name": "python",
   "nbconvert_exporter": "python",
   "pygments_lexer": "ipython3",
   "version": "3.10.5"
  }
 },
 "nbformat": 4,
 "nbformat_minor": 2
}
