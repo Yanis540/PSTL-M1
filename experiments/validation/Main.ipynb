{
 "cells": [
  {
   "cell_type": "code",
   "execution_count": 8,
   "metadata": {},
   "outputs": [],
   "source": [
    "import jsonschema\n",
    "import os \n",
    "import json"
   ]
  },
  {
   "cell_type": "code",
   "execution_count": 14,
   "metadata": {},
   "outputs": [],
   "source": [
    "def calcualte_number_errors(path):\n",
    "    with open(f'{path}/schema.json','r',encoding='utf-8') as f : \n",
    "        schema = json.load(f)\n",
    "    witness_path = f'{path}/instance.json'\n",
    "    if not os.path.exists(witness_path):\n",
    "        return None \n",
    "    try : \n",
    "        with open(witness_path,'r',encoding='utf-8') as f : \n",
    "            data = json.load(f)\n",
    "    except :\n",
    "        return None\n",
    "    try : \n",
    "        validator = jsonschema.Draft7Validator(schema)\n",
    "        print(list(validator.iter_errors(data)))\n",
    "        for error in validator.iter_errors(data): \n",
    "            print(error)\n",
    "        return len(list(validator.iter_errors(data)))\n",
    "    except Exception as e : \n",
    "        if(\"error: nothing to repeat at position 1\" in str(e)) : # error appearing somehow\n",
    "            return 0\n",
    "        else :\n",
    "            return None \n",
    "        \n",
    "    \n",
    "# calcualte_number_errors('o33194',f'./dataset/JE/{witness_file_name(\"o33194\",True)}')"
   ]
  },
  {
   "cell_type": "code",
   "execution_count": 15,
   "metadata": {},
   "outputs": [
    {
     "name": "stdout",
     "output_type": "stream",
     "text": [
      "[<ValidationError: \"{'a': {'b': 12}} is not valid under any of the given schemas\">]\n",
      "{'a': {'b': 12}} is not valid under any of the given schemas\n",
      "\n",
      "Failed validating 'anyOf' in schema['properties']['name']:\n",
      "    {'anyOf': [{'description': 'Cool! We got a string here!',\n",
      "                'properties': {'a': {'minProperties': 2,\n",
      "                                     'properties': {'b': {'type': 'string'}},\n",
      "                                     'required': ['b'],\n",
      "                                     'type': 'object'}},\n",
      "                'required': ['a'],\n",
      "                'type': 'object'},\n",
      "               {'type': 'integer'}]}\n",
      "\n",
      "On instance['name']:\n",
      "    {'a': {'b': 12}}\n"
     ]
    },
    {
     "data": {
      "text/plain": [
       "1"
      ]
     },
     "execution_count": 15,
     "metadata": {},
     "output_type": "execute_result"
    }
   ],
   "source": [
    "calcualte_number_errors('./dataset/2')"
   ]
  }
 ],
 "metadata": {
  "kernelspec": {
   "display_name": "Python 3",
   "language": "python",
   "name": "python3"
  },
  "language_info": {
   "codemirror_mode": {
    "name": "ipython",
    "version": 3
   },
   "file_extension": ".py",
   "mimetype": "text/x-python",
   "name": "python",
   "nbconvert_exporter": "python",
   "pygments_lexer": "ipython3",
   "version": "3.10.5"
  }
 },
 "nbformat": 4,
 "nbformat_minor": 2
}
