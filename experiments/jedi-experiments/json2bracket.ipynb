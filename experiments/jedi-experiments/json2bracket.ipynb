{
 "cells": [
  {
   "cell_type": "code",
   "execution_count": 1,
   "metadata": {},
   "outputs": [],
   "source": [
    "import json"
   ]
  },
  {
   "cell_type": "code",
   "execution_count": 9,
   "metadata": {},
   "outputs": [],
   "source": [
    "sort_key = False\n",
    "def json2bracket(x)->str:\n",
    "    global sort_key\n",
    "    result = \"\"\n",
    "\n",
    "    if isinstance(x, dict):  # OBJECT\n",
    "        result += '{\\{\\}'\n",
    "        if sort_key:\n",
    "            for key, val in sorted(x.items()):\n",
    "                k = key.encode(\"ascii\", \"ignore\").decode()\n",
    "                result += '{\"' + k.replace(\"{\", \"\\{\").replace(\"}\", \"\\}\") + '\":'\n",
    "                result += json2bracket(val)\n",
    "                result += '}'\n",
    "        else:\n",
    "            for key, val in x.items():\n",
    "                k = key.encode(\"ascii\", \"ignore\").decode()\n",
    "                result += '{\"' + k.replace(\"{\", \"\\{\").replace(\"}\", \"\\}\") + '\":'\n",
    "                result += json2bracket(val)\n",
    "                result += '}'\n",
    "        result += '}'\n",
    "    elif isinstance(x, list):  # ARRAY\n",
    "        result += '{[]'\n",
    "        cnt = 1\n",
    "        for val in x:\n",
    "            # Remove the comments below to insert array order nodes.\n",
    "            # result += '{' + str(cnt)\n",
    "            result += json2bracket(val)\n",
    "            cnt += 1\n",
    "            # result += '}'\n",
    "        result += '}'\n",
    "    else:  # VALUE\n",
    "        if isinstance(x, str):\n",
    "            x = x.encode(\"ascii\", \"ignore\").decode()\n",
    "            result += '{\"' + \"\".join(x.replace(\"{\", \"\\{\").replace(\"}\", \"\\{\").split()) + '\"}'\n",
    "        elif isinstance(x, int):\n",
    "            result += '{' + str(x) + '}'\n",
    "        elif isinstance(x, float):\n",
    "            result += '{' + str(x) + '}'\n",
    "        elif isinstance(x, bool):\n",
    "            result += '{' + str(x) + '}'\n",
    "        else:  # NULL\n",
    "            result += '{' + 'null' + '}'\n",
    "\n",
    "    return result"
   ]
  },
  {
   "cell_type": "code",
   "execution_count": 10,
   "metadata": {},
   "outputs": [
    {
     "data": {
      "text/plain": [
       "'{\\\\{\\\\}{\"key1\":{\"value1\"}}{\"key2\":{[]{1}{2}{3}}}}'"
      ]
     },
     "execution_count": 10,
     "metadata": {},
     "output_type": "execute_result"
    }
   ],
   "source": [
    "# Exemple d'utilisation :\n",
    "data = {\"key1\": \"value1\", \"key2\": [1, 2, 3]}\n",
    "result_string = json2bracket(data)\n",
    "result_string"
   ]
  },
  {
   "cell_type": "code",
   "execution_count": 12,
   "metadata": {},
   "outputs": [
    {
     "name": "stdout",
     "output_type": "stream",
     "text": [
      "{\\{\\}{\"key1\":{\"value1\"}}{\"key2\":{[]{1}{2}{3}}}}"
     ]
    }
   ],
   "source": [
    "def json2bracket_2(x):\n",
    "    global sort_key\n",
    "    if isinstance(x, dict): # OBJECT\n",
    "        print('{\\{\\}', end='')\n",
    "        if sort_key:\n",
    "            for key, val in sorted(x.items()):\n",
    "                k = key.encode(\"ascii\", \"ignore\").decode()\n",
    "                print('{\"' + k.replace(\"{\", \"\\{\").replace(\"}\", \"\\}\") + \n",
    "                        '\":', end='')\n",
    "                json2bracket_2(val)\n",
    "                print('}', end='')\n",
    "        else:\n",
    "            for key, val in x.items():\n",
    "                k = key.encode(\"ascii\", \"ignore\").decode()\n",
    "                print('{\"' + k.replace(\"{\", \"\\{\").replace(\"}\", \"\\}\") + \n",
    "                        '\":', end='')\n",
    "                json2bracket_2(val)\n",
    "                print('}', end='')\n",
    "        print('}', end='')\n",
    "    elif isinstance(x, list): # ARRAY\n",
    "        print('{[]', end='')\n",
    "        cnt = 1\n",
    "        for val in x:\n",
    "            # Remove the comments below to insert array order nodes.\n",
    "            # print('{' + str(cnt), end='')\n",
    "            json2bracket_2(val)\n",
    "            cnt += 1\n",
    "            # print('}', end='')\n",
    "        print('}', end='')\n",
    "    else: # VALUE\n",
    "        if isinstance(x, str):\n",
    "            x = x.encode(\"ascii\", \"ignore\").decode()\n",
    "            print('{\"' + \"\".join(x.replace(\"{\", \"\\{\").replace(\"}\", \n",
    "                    \"\\{\").split()) + '\"}', end='')\n",
    "        elif isinstance(x, int):\n",
    "            print('{' + str(x) + '}', end='')\n",
    "        elif isinstance(x, float):\n",
    "            print('{' + str(x) + '}', end='')\n",
    "        elif isinstance(x, bool):\n",
    "            print('{' + str(x) + '}', end='')\n",
    "        else: # NULL\n",
    "            print('{' + 'null' + '}', end='')\n",
    "\n",
    "    return\n",
    "json2bracket_2(data)"
   ]
  },
  {
   "cell_type": "code",
   "execution_count": null,
   "metadata": {},
   "outputs": [],
   "source": []
  }
 ],
 "metadata": {
  "kernelspec": {
   "display_name": "Python 3",
   "language": "python",
   "name": "python3"
  },
  "language_info": {
   "codemirror_mode": {
    "name": "ipython",
    "version": 3
   },
   "file_extension": ".py",
   "mimetype": "text/x-python",
   "name": "python",
   "nbconvert_exporter": "python",
   "pygments_lexer": "ipython3",
   "version": "3.10.5"
  }
 },
 "nbformat": 4,
 "nbformat_minor": 2
}
