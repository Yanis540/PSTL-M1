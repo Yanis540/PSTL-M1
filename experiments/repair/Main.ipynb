{
 "cells": [
  {
   "cell_type": "code",
   "execution_count": 1,
   "metadata": {},
   "outputs": [],
   "source": [
    "import json \n",
    "import os \n",
    "from jschon import create_catalog,JSON, JSONSchema"
   ]
  },
  {
   "cell_type": "code",
   "execution_count": null,
   "metadata": {},
   "outputs": [],
   "source": [
    "create_catalog('2019-09')"
   ]
  },
  {
   "cell_type": "code",
   "execution_count": null,
   "metadata": {},
   "outputs": [],
   "source": []
  },
  {
   "cell_type": "code",
   "execution_count": null,
   "metadata": {},
   "outputs": [],
   "source": [
    "def validate_instance(schema_dir:str,instance_dir): \n",
    "    with open(schema_dir,'r',encoding='utf-8') as f : \n",
    "        schema= json.load(f)\n",
    "    print(schema)\n",
    "    demo_schema = JSONSchema(schema)\n",
    "    # print(demo_schema)\n",
    "    with open (instance_dir,'r',encoding='utf-8') as f : \n",
    "        instance=json.load(f)\n",
    "        \n",
    "    result = demo_schema.evaluate(\n",
    "        JSON(instance)\n",
    "    )\n",
    "    return result \n",
    "def get_errors_validation(schema_dir:str,instance_dir:str): \n",
    "    result = validate_instance(schema_dir,instance_dir)\n",
    "    # print(result.output('detailed'))# if errors in result.output('detailed')\n",
    "    if(result.output(\"detailed\")['valid']==False or \"errors\" in result.output(\"detailed\")): \n",
    "        errors = extract_errors(result.output('detailed')['errors'])\n",
    "    else : \n",
    "        errors=[]\n",
    "    return errors"
   ]
  },
  {
   "cell_type": "code",
   "execution_count": null,
   "metadata": {},
   "outputs": [],
   "source": [
    "dataset_dir= './Samples'\n",
    "for dir in os.listdir(dataset_dir) : \n",
    "    \n",
    "    for instance in os.listdir(f'{dataset_dir}/{dir}') : \n",
    "        print(f\"Treating schema : {dir}\")\n",
    "        schema_dir = f'{dataset_dir}/{dir}/{instance}/schema.json'\n",
    "        instance_dir=f'{dataset_dir}/{dir}/{instance}/instance.json'\n",
    "        result=validate_instance(schema_dir,instance_dir)\n",
    "        errors=get_errors_validation(schema_dir,instance_dir)\n",
    "    \n",
    "    # print(errors)\n",
    "    with open(f'{dataset_dir}/{dir}/errors.json','w') as f :\n",
    "        res = result.output(\"detailed\")\n",
    "        res['total_errors'] = errors\n",
    "        json.dump(res,f,indent=2) "
   ]
  }
 ],
 "metadata": {
  "kernelspec": {
   "display_name": "Python 3",
   "language": "python",
   "name": "python3"
  },
  "language_info": {
   "codemirror_mode": {
    "name": "ipython",
    "version": 3
   },
   "file_extension": ".py",
   "mimetype": "text/x-python",
   "name": "python",
   "nbconvert_exporter": "python",
   "pygments_lexer": "ipython3",
   "version": "3.10.5"
  }
 },
 "nbformat": 4,
 "nbformat_minor": 2
}
