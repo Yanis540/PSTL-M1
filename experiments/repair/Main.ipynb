{
 "cells": [
  {
   "cell_type": "code",
   "execution_count": 1,
   "metadata": {},
   "outputs": [],
   "source": [
    "import json \n",
    "import os \n",
    "from jschon import create_catalog,JSON, JSONSchema"
   ]
  },
  {
   "cell_type": "code",
   "execution_count": 2,
   "metadata": {},
   "outputs": [],
   "source": [
    "from Validator import Validator"
   ]
  },
  {
   "cell_type": "code",
   "execution_count": 3,
   "metadata": {},
   "outputs": [],
   "source": [
    "validator = Validator()"
   ]
  },
  {
   "cell_type": "code",
   "execution_count": 14,
   "metadata": {},
   "outputs": [
    {
     "data": {
      "text/plain": [
       "JSONSchema({'$schema': 'https://json-schema.org/draft/2019-09/schema', 'anyOf': [{'type': 'number', 'multipleOf': 3, 'minimum': 100}, {'type': 'object', 'required': ['name'], 'properties': {'name': {'type': 'string'}, 'email': {'description': 'Email of the user', 'type': 'string', 'format': 'email'}}}]})"
      ]
     },
     "execution_count": 14,
     "metadata": {},
     "output_type": "execute_result"
    }
   ],
   "source": [
    "validator.validate_instance('./Samples/anyOf/1/schema.json','./Samples/anyOf/1/instance.json').schema"
   ]
  },
  {
   "cell_type": "code",
   "execution_count": 5,
   "metadata": {},
   "outputs": [
    {
     "name": "stdout",
     "output_type": "stream",
     "text": [
      "Treating Type : anyOf\n",
      "\t schema : 1\n",
      "Treating Type : boolean\n",
      "\t schema : 1\n",
      "\t schema : 2\n",
      "Treating Type : null\n",
      "\t schema : 1\n",
      "\t schema : 2\n",
      "Treating Type : number\n",
      "\t schema : 1\n",
      "\t schema : 2\n",
      "\t schema : 3\n",
      "Treating Type : object\n",
      "\t schema : 1\n",
      "Treating Type : string\n",
      "\t schema : 1\n",
      "\t schema : 2\n"
     ]
    }
   ],
   "source": [
    "dataset_dir= './Samples'\n",
    "for dir in os.listdir(dataset_dir) : \n",
    "    \n",
    "    print(f\"Treating Type : {dir}\")\n",
    "    for instance in os.listdir(f'{dataset_dir}/{dir}') : \n",
    "        print(f\"\\t schema : {instance}\")\n",
    "        schema_dir = f'{dataset_dir}/{dir}/{instance}/schema.json'\n",
    "        instance_dir=f'{dataset_dir}/{dir}/{instance}/instance.json'\n",
    "        result=validator.validate_instance(schema_dir,instance_dir)\n",
    "        errors=validator.get_errors_validation(schema_dir,instance_dir)\n",
    "        # print(errors)\n",
    "        with open(f'{dataset_dir}/{dir}/{instance}/errors.json','w') as f :\n",
    "            res = result.output(\"detailed\")\n",
    "            res['total_errors'] = errors\n",
    "            json.dump(res,f,indent=2) "
   ]
  },
  {
   "cell_type": "code",
   "execution_count": null,
   "metadata": {},
   "outputs": [],
   "source": []
  }
 ],
 "metadata": {
  "kernelspec": {
   "display_name": "Python 3",
   "language": "python",
   "name": "python3"
  },
  "language_info": {
   "codemirror_mode": {
    "name": "ipython",
    "version": 3
   },
   "file_extension": ".py",
   "mimetype": "text/x-python",
   "name": "python",
   "nbconvert_exporter": "python",
   "pygments_lexer": "ipython3",
   "version": "3.10.5"
  }
 },
 "nbformat": 4,
 "nbformat_minor": 2
}
